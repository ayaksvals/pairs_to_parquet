{
 "cells": [
  {
   "cell_type": "markdown",
   "metadata": {},
   "source": [
    "# Converting .parquet to .pairs"
   ]
  },
  {
   "cell_type": "markdown",
   "metadata": {},
   "source": [
    "So in order to convert .parquet back to classical .pairs to you need to run an easy cli command (which has similar parameters to pairtools functions). Here is an example with useful parameters:"
   ]
  },
  {
   "cell_type": "code",
   "execution_count": null,
   "metadata": {},
   "outputs": [],
   "source": [
    "pairs_to_parquet parquet-to-csv -o test_converted.pairs.gz --nproc 4 --tmpdir /temp_directory --memory 35G  test.parquet"
   ]
  }
 ],
 "metadata": {
  "kernelspec": {
   "display_name": "parquetProject",
   "language": "python",
   "name": "python3"
  },
  "language_info": {
   "codemirror_mode": {
    "name": "ipython",
    "version": 3
   },
   "file_extension": ".py",
   "mimetype": "text/x-python",
   "name": "python",
   "nbconvert_exporter": "python",
   "pygments_lexer": "ipython3",
   "version": "3.12.5"
  }
 },
 "nbformat": 4,
 "nbformat_minor": 2
}
